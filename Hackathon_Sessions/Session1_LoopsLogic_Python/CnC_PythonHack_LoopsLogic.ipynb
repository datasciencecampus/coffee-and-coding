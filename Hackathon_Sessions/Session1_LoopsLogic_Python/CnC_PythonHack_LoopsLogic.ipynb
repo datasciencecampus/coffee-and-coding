{
  "nbformat": 4,
  "nbformat_minor": 0,
  "metadata": {
    "colab": {
      "name": "CnC_pythonhack_1.ipynb",
      "provenance": [],
      "collapsed_sections": []
    },
    "kernelspec": {
      "name": "python3",
      "display_name": "Python 3"
    },
    "language_info": {
      "name": "python"
    }
  },
  "cells": [
    {
      "cell_type": "markdown",
      "source": [
        "# **Coffee and Coding Python Hackathon: Loops and Logic**"
      ],
      "metadata": {
        "id": "vHMtea6_52Q6"
      }
    },
    {
      "cell_type": "markdown",
      "source": [
        "## >>>>> Challenge 1\n",
        "\n",
        "**Your task is to make a function, which returns the sum of a sequence of integers.**\n",
        "\n",
        "The sequence of integers that your function will take in as arguments is defined by 3 non-negative values:\n",
        "\n",
        "* a begin value\n",
        "\n",
        "* an end value\n",
        "\n",
        "* a step value (inclusive)\n",
        "\n",
        "If the begin value is greater than the end value, your function should return 0.\n",
        "\n",
        "Write your function below:"
      ],
      "metadata": {
        "id": "BZj8BRqh8bJM"
      }
    },
    {
      "cell_type": "code",
      "source": [
        "def integer_sum(begin_val, end_val, step_val):\n",
        "    # Write your function here (DONT forget to remove pass)\n",
        "    \n",
        "    pass"
      ],
      "metadata": {
        "id": "jHnZm7kwSL7l"
      },
      "execution_count": null,
      "outputs": []
    },
    {
      "cell_type": "code",
      "source": [
        "# Test your function works by running the following\n",
        "integer_sum(9,7,2)"
      ],
      "metadata": {
        "id": "7w9IEe3ISTBH"
      },
      "execution_count": null,
      "outputs": []
    },
    {
      "cell_type": "code",
      "source": [
        "integer_sum(1,15,5)"
      ],
      "metadata": {
        "id": "VvogUT3FVYe-"
      },
      "execution_count": null,
      "outputs": []
    },
    {
      "cell_type": "markdown",
      "source": [
        "## >>>>> Challenge Two - Beginner-Intermediate\n",
        "\n",
        "**Given a list of integers ( [5,6,6] ), find the one that appears an odd number of times ( 5 ). There will always be only one integer that appears an odd number of times in the list!**\n",
        "\n",
        "Write your function below:"
      ],
      "metadata": {
        "id": "OyhZVvjsVtEv"
      }
    },
    {
      "cell_type": "code",
      "source": [
        "def odd_int_count(int_array):\n",
        "    # Write your function here\n",
        "    pass "
      ],
      "metadata": {
        "id": "H3aYq0KccqB4"
      },
      "execution_count": null,
      "outputs": []
    },
    {
      "cell_type": "code",
      "source": [
        "# Test your function works by running the following\n",
        "odd_int_count([2,2,2,5,5,5,5])\n",
        "# should return 2 "
      ],
      "metadata": {
        "id": "g0IyNQw8c42i"
      },
      "execution_count": null,
      "outputs": []
    },
    {
      "cell_type": "code",
      "source": [
        "odd_int_count([1,2,2,2,3,3,1,1,1])\n",
        "# should return 2 "
      ],
      "metadata": {
        "id": "4fGksNKkdAUt"
      },
      "execution_count": null,
      "outputs": []
    },
    {
      "cell_type": "code",
      "source": [
        "odd_int_count([10,10,10,10,10,3,4,5,4,2,1,1,5,5,3,5])\n",
        "# should return 10 "
      ],
      "metadata": {
        "id": "JpleqKL9diHy"
      },
      "execution_count": null,
      "outputs": []
    },
    {
      "cell_type": "markdown",
      "source": [
        "## >>>>> Challenge Three – Intermediate-Advanced\n",
        "\n",
        "**Write an algorithm that takes a list and moves all of the zeros to the end of the list, preserving the order of all the other elements.** "
      ],
      "metadata": {
        "id": "ZrEsXDGydpXb"
      }
    },
    {
      "cell_type": "code",
      "source": [
        "def move_zeros(int_array):\n",
        "    # Write your function here\n",
        "    pass   "
      ],
      "metadata": {
        "id": "JjmjeAPJ5ob0"
      },
      "execution_count": null,
      "outputs": []
    },
    {
      "cell_type": "code",
      "source": [
        "move_zeros([3,4,0,5,6])\n",
        "# should return [3,4,5,6,0]"
      ],
      "metadata": {
        "id": "HFEzULsbeSXc"
      },
      "execution_count": null,
      "outputs": []
    },
    {
      "cell_type": "code",
      "source": [
        "move_zeros([11,25,0,0,1,3,4,5,11,10,29,0,3])\n",
        "# Should return [11,25,1,3,4,5,11,1,29,3,0,0,0]"
      ],
      "metadata": {
        "id": "J1z5vGdQeSkD"
      },
      "execution_count": null,
      "outputs": []
    },
    {
      "cell_type": "code",
      "source": [
        "move_zeros([0,5,0,8,9,0,4,9,0])\n",
        "# should return [5,8,9,4,9,0,0,0,0]"
      ],
      "metadata": {
        "id": "4KlvceubeSro"
      },
      "execution_count": null,
      "outputs": []
    }
  ]
}
