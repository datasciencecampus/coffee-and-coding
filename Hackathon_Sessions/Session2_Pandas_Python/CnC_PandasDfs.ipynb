{
 "cells": [
  {
   "cell_type": "markdown",
   "metadata": {},
   "source": [
    "# Coffee and Coding Python Hackathon: Introduction to Pandas DataFrames"
   ]
  },
  {
   "cell_type": "markdown",
   "metadata": {},
   "source": [
    "In this session we will be focusing on working with Pandas DataFrames. \n",
    "\n",
    "Pandas DataFrames are an efficient and fast way of managing and exploring data. Therefore, getting to know Pandas functionality and how to manipulate, analyse, wrangle and even produce graphs is important.  \n",
    "\n",
    "There are ______three______ rounds of exercises of varying difficulty that you should try and attempt as a group. \n",
    "\n",
    "___________________________________________________________________________\n",
    "\n",
    "**You don’t need to complete each exercise – the important thing is to try! A big part of learning to code and refining your skills is practice through trial and error.**\n",
    "___________________________________________________________________________\n",
    "\n",
    "Our answers will be given and shared at the end of the session. It will great to see yours as well (no pressure and only if you feel comfortable). **You may even have a better solution!!**\n",
    "\n",
    "If you want to share your code with the group you can:\n",
    "\n",
    "+ Share it on our main Teams chat when we go through each exercise. See Appendix 1 for instructions on how to copy code into Teams using the Code Snippet tool.\n",
    "\n",
    "+ If you would prefer to share anonymously – please email us your solution at coffee.coding@ons.gov.uk\n",
    "\n",
    "\n"
   ]
  },
  {
   "cell_type": "markdown",
   "metadata": {},
   "source": [
    "# Challenge Round 1 - Data Loading and Combining \n",
    "\n",
    "Before you can do anything to data you usually need to get it into a data structure so you can work with it. In this round all you need to do is load your data into a Pandas DataFrames and then combine them. Sounds simple but not always... have a go and see if you can load in dummydata_dpts.csv and dummydata_surveys.csv files into pandas dataframes and then combine both datasets into 1 dataframe. \n",
    "\n",
    "Use the space below to complete the following:\n",
    "\n",
    "1) Import pandas\n",
    "\n",
    "2) Use pandas to read in the data, making sure you assign them to a variable (be mindful of what **directory** you are currently in and where your downloaded datasets exist)\n",
    "\n",
    "3) Combine the two datasets together (Check out how the join went - is there anything that needs to change before you join them?) \n",
    "\n",
    "Hint 1: If you are getting a **FileNotFoundError** click [here](https://github.com/datasciencecampus/coffee-and-coding/blob/master/Hackathon_Sessions/Session2_Pandas_Python/Hint%20for%20FileNotFoundError.md) for a suggestion. \n",
    "\n",
    "\n",
    "Hint 2: Not sure how to combine datasets together, check out this [documentation](https://pandas.pydata.org/pandas-docs/dev/user_guide/merging.html) on ways to combine dataframes. "
   ]
  },
  {
   "cell_type": "code",
   "execution_count": null,
   "metadata": {},
   "outputs": [],
   "source": [
    "# Enter code here"
   ]
  },
  {
   "cell_type": "markdown",
   "metadata": {},
   "source": [
    "# Challenge Round 2 - Exploring the Data\n",
    "\n",
    "So you now have your data all in one dataframe! Great. What next? Well by far the longest and probably most important process to any project involving data is the process of **exploring** it. Data exploration helps you understand the nature of the data, it is also an important step in discovering whether there is anything that needs fixing or dealing with. \n",
    "\n",
    "In this round you will need to explore the data to answer the questions below and make some decisions on how to deal with some of what your exploration uncovers. There are no right or wrong ways of going about exploring your data, but there are a few nice methods that are in built into pandas that make inspecting the data a lot easier. See pandas documentation [here](https://pandas.pydata.org/pandas-docs/dev/user_guide/index.html) to explore some methods that be helpful to you. \n",
    "\n",
    "Use the space below to complete the following:\n",
    "1) Inspect the ages of the employees across the departments. Anything perculiar about the ages that need to be dealt with? \n",
    "\n",
    "2) How many employees are there from each department?    \n",
    "\n",
    "3) How many lines of code per week (use column NumLinesCode_Pw) do the 'Health Population and Methods Transformation' department code? \n",
    "\n",
    "4) How many coffees per week (use column NumCoffee_Pw) do the the 'Methodology and Quality' department consume? \n",
    "\n",
    "5) Which department writes the most amount of code per week per employee? \n",
    "\n"
   ]
  },
  {
   "cell_type": "code",
   "execution_count": null,
   "metadata": {},
   "outputs": [],
   "source": [
    "# Enter code here"
   ]
  },
  {
   "cell_type": "markdown",
   "metadata": {},
   "source": [
    "# Challenge Round 3 - Visualising the data \n",
    "\n",
    "Now that you have a good sense of the data another great thing to do is start to visualise it. This can be a really useful way of seeing trends in your data and Pandas has some in built functionality for this.\n",
    "\n",
    "Your challenge for this round is to use pandas functionality to produce the following graph:\n",
    "1) A box plot that shows the amount of coffee drank per week by department (Make sure you try and improve the graph as much as possible by checking out the functional arguments of the boxplot() method)\n",
    "Then using any visualisation package (e.g. matplotlib) you want, produce:\n",
    "2) A scatter graph of the relationship between the number of coffees drank per week (NumCoffee_Pw) and the number lines of code someone writes per week (NumLinesCode_Pw), colour coded by department.  \n",
    "\n",
    "\n",
    "What can and cant you do with pandas methods for plotting that you can compared to using other methods such as matplotlib? \n",
    "\n"
   ]
  },
  {
   "cell_type": "code",
   "execution_count": null,
   "metadata": {},
   "outputs": [],
   "source": [
    "# Enter code here"
   ]
  }
 ],
 "metadata": {
  "kernelspec": {
   "display_name": "Python 3.8.3 ('base')",
   "language": "python",
   "name": "python3"
  },
  "language_info": {
   "codemirror_mode": {
    "name": "ipython",
    "version": 3
   },
   "file_extension": ".py",
   "mimetype": "text/x-python",
   "name": "python",
   "nbconvert_exporter": "python",
   "pygments_lexer": "ipython3",
   "version": "3.8.3"
  },
  "orig_nbformat": 4,
  "vscode": {
   "interpreter": {
    "hash": "9e795a2d983c233d6cd2983a0dfb2a8cbbf5a5e5d473c6b9fc7262393e02aa67"
   }
  }
 },
 "nbformat": 4,
 "nbformat_minor": 2
}
