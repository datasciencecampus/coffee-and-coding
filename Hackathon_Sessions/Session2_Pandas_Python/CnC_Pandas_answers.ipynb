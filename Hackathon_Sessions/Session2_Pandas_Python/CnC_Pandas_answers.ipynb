{
 "cells": [
  {
   "cell_type": "markdown",
   "metadata": {},
   "source": [
    "# Coffee and Coding Python Hackathon: Introduction to Pandas DataFrames"
   ]
  },
  {
   "cell_type": "markdown",
   "metadata": {},
   "source": [
    "In this session we will be focusing on working with Pandas DataFrames. \n",
    "\n",
    "Pandas DataFrames are an efficient and fast way of managing and exploring data. Therefore, getting to know Pandas functionality and how to manipulate, analyse, wrangle and even produce graphs is important.  \n",
    "\n",
    "There are ______three______ exercises of varying difficulty that you should try and attempt as a group. \n",
    "\n",
    "___________________________________________________________________________\n",
    "\n",
    "**You don’t need to complete each exercise – the important thing is to try! A big part of learning to code and refining your skills is practice through trial and error.**\n",
    "___________________________________________________________________________\n",
    "\n",
    "You can search for some of the answers to these exercises on Google but that doesn’t mean you should.\n",
    "\n",
    "Use Google to understand how things work, not how to solve the entire problem. You will get the most out of these exercises practicing in your small teams, sharing knowledge, and figuring them out together.\n",
    "\n",
    "Our answers will be given and shared at the end of the session. It will great to see yours as well (no pressure and only if you feel comfortable). **You may even have a better solution!!**\n",
    "\n",
    "If you want to share your code with the group you can:\n",
    "\n",
    "+ Share it on our main Teams chat when we go through each exercise. See Appendix 1 for instructions on how to copy code into Teams using the Code Snippet tool.\n",
    "\n",
    "+ If you would prefer to share anonymously – please email us your solution at coffee.coding@ons.gov.uk\n",
    "\n",
    "\n"
   ]
  },
  {
   "cell_type": "markdown",
   "metadata": {},
   "source": [
    "# Challenge Round 1 - Data Loading and Combining \n",
    "\n",
    "Before you can do anything to data you usually need to get it into a data structure so you can work with it. One really common type of data structure is Pandas, and for this all you need to do is load the data into a Pandas DataFrame. Sounds simple but not always... in this round have a go and see if you can load in dummydata_dpts.csv and dummydata_surveys.csv files into pandas dataframes and then combine both datasets into 1 dataframe. \n",
    "\n",
    "Use the space below to complete the following:\n",
    "\n",
    "1) Import pandas\n",
    "\n",
    "2) Use pandas to read in the data, making sure you assign them to a variable (be mindful of what **directory** you are currently in and where your downloaded datasets exist)\n",
    "\n",
    "3) Combine the two datasets together (Check out how the join went - is there anything that needs to change before you join them?) \n",
    "\n",
    "Hint 1: If you are getting a **FileNotFoundError** click here for a suggestion. \n",
    "\n",
    "\n",
    "Hint 2: Not sure how to combine datasets together, check out this on ways to combine dataframes. "
   ]
  },
  {
   "cell_type": "code",
   "execution_count": 23,
   "metadata": {},
   "outputs": [
    {
     "name": "stdout",
     "output_type": "stream",
     "text": [
      "My current directory is d:\\Coffee and Coding Exercise Session\\Session 2\n"
     ]
    }
   ],
   "source": [
    "#Import modules\n",
    "import pandas as pd \n",
    "import os\n",
    "\n",
    "# Sanity check I am in the correct directory \n",
    "print('My current directory is ' + os.getcwd())\n",
    "# If I am not in the correct directory change it\n",
    "#os.chdir(\"directory\")\n",
    "\n",
    "with open('dummydata_dpts.csv') as dt1, open('dummydata_surveys.csv') as dt2: \n",
    "    # open the datasets\n",
    "    data1 = pd.read_csv(dt1)\n",
    "    data2 = pd.read_csv(dt2)\n",
    "\n",
    "    # rename column in data2 so the dataframes merge together nicely\n",
    "    data2 = data2.rename(columns={'age':'Age'})\n",
    "\n",
    "    # combine the dataframes together using the append method\n",
    "    data = data1.append(data2, ignore_index=True)\n",
    "\n",
    "\n"
   ]
  },
  {
   "cell_type": "markdown",
   "metadata": {},
   "source": [
    "# Challenge Round 2 - Exploring the Data\n",
    "\n",
    "So you now have your data all in one dataframe! Great. What next? Well by far the longest and probably most important process to any project involving data is the process of **exploring** it. In this round you will need to explore the data to answer the questions below and make some decisions on how to deal with some of what your exploration uncovers. There are no right or wrong ways of going about exploring your data, but there are a few nice methods that are in built into pandas that make inspecting the data a lot easier. \n",
    "\n",
    "Use the space below to complete the following:\n",
    "1) Inspect the ages of the employees across the departments. Anything perculiar about the ages? Work out how to remove anything you find strange. \n",
    "2) How many employees are there from each department?    \n",
    "3) How many lines of code per week (use column NumLinesCode_Pw) do the 'Health Population and Methods Transformation' department code? \n",
    "4) How many coffees per week (use column NumCoffee_Pw) do the the 'Methodology and Quality' department consume? \n",
    "5) Which department writes the most amount of code per week per employee? \n",
    "\n"
   ]
  },
  {
   "cell_type": "code",
   "execution_count": 24,
   "metadata": {},
   "outputs": [
    {
     "data": {
      "text/plain": [
       "count    300.000000\n",
       "mean      40.820000\n",
       "std       13.977081\n",
       "min        5.000000\n",
       "25%       33.000000\n",
       "50%       41.000000\n",
       "75%       49.000000\n",
       "max      167.000000\n",
       "Name: Age, dtype: float64"
      ]
     },
     "execution_count": 24,
     "metadata": {},
     "output_type": "execute_result"
    }
   ],
   "source": [
    "# To inspect the Age column \n",
    "data['Age'].describe()\n",
    "# Inspect all the numerical based columns in the data use: data.describe()\n",
    "\n",
    "# from the min and max here we can see that there is someone listed as 5 and 167 years of age. This is probably a typo and will need to be dealt with. \n",
    "# One way of dealing with them (and probably the best way) is to just remove them entirely from the dataset.  "
   ]
  },
  {
   "cell_type": "code",
   "execution_count": 26,
   "metadata": {},
   "outputs": [],
   "source": [
    "# Removing the 5 and 167 y/o from the dataset. \n",
    "\n",
    "# Get the min and max within the column \n",
    "min_Age = min(data['Age'])\n",
    "max_Age = max(data['Age'])\n",
    "\n",
    "data = data.loc[(data.Age != min_Age) & (data.Age != max_Age)]"
   ]
  },
  {
   "cell_type": "code",
   "execution_count": 27,
   "metadata": {},
   "outputs": [
    {
     "data": {
      "text/plain": [
       "count    298.000000\n",
       "mean      40.516779\n",
       "std       11.775169\n",
       "min       18.000000\n",
       "25%       33.000000\n",
       "50%       41.000000\n",
       "75%       49.000000\n",
       "max       71.000000\n",
       "Name: Age, dtype: float64"
      ]
     },
     "execution_count": 27,
     "metadata": {},
     "output_type": "execute_result"
    }
   ],
   "source": [
    "# Sense check the Age variable \n",
    "data['Age'].describe()"
   ]
  },
  {
   "cell_type": "code",
   "execution_count": 33,
   "metadata": {},
   "outputs": [
    {
     "name": "stdout",
     "output_type": "stream",
     "text": [
      "Department\n",
      "Data Science Campus                             70\n",
      "Methodology and Quality                         57\n",
      "People and Business Services                    51\n",
      "Health Population and Methods Transformation    43\n",
      "Data Growth and Operations                      27\n",
      "Economic Statistics Change                      20\n",
      "Macroeconomic Statistics and Analysis           20\n",
      "Surveys                                         10\n",
      "dtype: int64\n"
     ]
    }
   ],
   "source": [
    "# How many employees are there in each department\n",
    "employees_by_dpt = data.value_counts('Department')\n",
    "print(employees_by_dpt)"
   ]
  },
  {
   "cell_type": "code",
   "execution_count": 37,
   "metadata": {},
   "outputs": [
    {
     "data": {
      "text/plain": [
       "pandas.core.series.Series"
      ]
     },
     "execution_count": 37,
     "metadata": {},
     "output_type": "execute_result"
    }
   ],
   "source": [
    "type(employees_by_dpt)"
   ]
  },
  {
   "cell_type": "code",
   "execution_count": 54,
   "metadata": {},
   "outputs": [
    {
     "name": "stdout",
     "output_type": "stream",
     "text": [
      "Health Population and Methods Transformation department codes 34509 lines of code per week\n"
     ]
    }
   ],
   "source": [
    "# How many lines of code do the Health Population and Methods Transformation code per week? \n",
    "\n",
    "HPMT_numlinescode_pw = sum(data.loc[(data.Department == 'Health Population and Methods Transformation')]['NumLinesCode_Pw'])\n",
    "print('Health Population and Methods Transformation department codes ' + str(HPMT_numlinescode_pw) + ' lines of code per week')"
   ]
  },
  {
   "cell_type": "code",
   "execution_count": 31,
   "metadata": {},
   "outputs": [
    {
     "name": "stdout",
     "output_type": "stream",
     "text": [
      "Methodology and Quality department drinks 307.9000000000001 coffee per week\n"
     ]
    }
   ],
   "source": [
    "# How many coffees do the Methodology and Quality department drink per week? \n",
    "MQ_coffeeintake_pw = sum(data.loc[(data.Department == 'Methodology and Quality')]['NumCoffee_Pw'])\n",
    "print('Methodology and Quality department drinks ' + str(MQ_coffeeintake_pw) + ' cups of coffee per week')"
   ]
  },
  {
   "cell_type": "code",
   "execution_count": 44,
   "metadata": {},
   "outputs": [],
   "source": [
    "# Which department writes the most amount of code per week per employee:\n",
    "\n",
    "# empty dictionary to collate information\n",
    "code_pw_perEmp = {}\n",
    "\n",
    "for dpt in employees_by_dpt.keys():\n",
    "\n",
    "    code_pw_perEmp[dpt] = sum(data.loc[(data.Department == dpt)]['NumLinesCode_Pw'])/employees_by_dpt[dpt]\n",
    "\n",
    "code_pw_perEmp\n",
    " "
   ]
  },
  {
   "cell_type": "markdown",
   "metadata": {},
   "source": [
    "# Challenge Round 3 - Visualising the data \n",
    "\n",
    "Now that you have a good sense of the data another great thing to do is start visualise it. This can be a really useful way of seeing trends in your data.\n",
    "\n",
    "Your challenge for this round is to use pandas functionality to produce the following graph:\n",
    "1) A box plot that shows the amount of coffee drank per week by department \n",
    "\n",
    "Make sure you try and improve the graph as much as possible by checking out the functional arguments of the boxplot() method. \n",
    "\n",
    "What can and cant you do with this method compared to using more conventional methods like matplotlib? \n"
   ]
  },
  {
   "cell_type": "code",
   "execution_count": 59,
   "metadata": {},
   "outputs": [
    {
     "name": "stderr",
     "output_type": "stream",
     "text": [
      "c:\\Users\\scottc1\\Anaconda3\\lib\\site-packages\\matplotlib\\cbook\\__init__.py:1376: VisibleDeprecationWarning: Creating an ndarray from ragged nested sequences (which is a list-or-tuple of lists-or-tuples-or ndarrays with different lengths or shapes) is deprecated. If you meant to do this, you must specify 'dtype=object' when creating the ndarray.\n",
      "  X = np.atleast_1d(X.T if isinstance(X, np.ndarray) else np.asarray(X))\n"
     ]
    },
    {
     "data": {
      "text/plain": [
       "<matplotlib.axes._subplots.AxesSubplot at 0x1eddd5ece50>"
      ]
     },
     "execution_count": 59,
     "metadata": {},
     "output_type": "execute_result"
    },
    {
     "data": {
      "image/png": "[encoded data removed]",
      "text/plain": [
       "<Figure size 432x288 with 1 Axes>"
      ]
     },
     "metadata": {
      "needs_background": "light"
     },
     "output_type": "display_data"
    }
   ],
   "source": [
    "data.boxplot(column='NumCoffee_Pw', by='Department', rot= 90, fontsize=12)"
   ]
  }
 ],
 "metadata": {
  "kernelspec": {
   "display_name": "Python 3.8.3 ('base')",
   "language": "python",
   "name": "python3"
  },
  "language_info": {
   "codemirror_mode": {
    "name": "ipython",
    "version": 3
   },
   "file_extension": ".py",
   "mimetype": "text/x-python",
   "name": "python",
   "nbconvert_exporter": "python",
   "pygments_lexer": "ipython3",
   "version": "3.8.3"
  },
  "orig_nbformat": 4,
  "vscode": {
   "interpreter": {
    "hash": "9e795a2d983c233d6cd2983a0dfb2a8cbbf5a5e5d473c6b9fc7262393e02aa67"
   }
  }
 },
 "nbformat": 4,
 "nbformat_minor": 2
}
